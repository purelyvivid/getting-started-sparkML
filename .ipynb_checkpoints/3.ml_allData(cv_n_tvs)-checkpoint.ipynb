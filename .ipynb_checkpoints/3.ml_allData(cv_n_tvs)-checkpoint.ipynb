{
 "cells": [
  {
   "cell_type": "markdown",
   "metadata": {},
   "source": [
    "# 初始spark設定(每台不同)"
   ]
  },
  {
   "cell_type": "code",
   "execution_count": 1,
   "metadata": {},
   "outputs": [],
   "source": [
    "import os\n",
    "import sys\n",
    "os.environ['SPARK_HOME'] = '/opt/cloudera/parcels/CDH/lib/spark/'"
   ]
  },
  {
   "cell_type": "code",
   "execution_count": 2,
   "metadata": {},
   "outputs": [],
   "source": [
    "import findspark\n",
    "findspark.init()"
   ]
  },
  {
   "cell_type": "markdown",
   "metadata": {},
   "source": [
    "# 欄位資訊"
   ]
  },
  {
   "cell_type": "code",
   "execution_count": 3,
   "metadata": {},
   "outputs": [],
   "source": [
    "with open(\"col_info.txt\", \"r\") as f:\n",
    "    head = f.readline()\n",
    "    col_info = [ line.strip().split(\" \") for line in f.read().split(\"\\n\")]"
   ]
  },
  {
   "cell_type": "code",
   "execution_count": 4,
   "metadata": {},
   "outputs": [
    {
     "data": {
      "text/plain": [
       "[['0', 'Year', 'int', '飛行日期_年', 'X'],\n",
       " ['1', 'Month', 'int', '飛行日期_月', 'O', '一月和十二月特別容易取消班機'],\n",
       " ['2', 'DayofMonth', 'int', '飛行日期_日', 'O', '25,11,18,13號', '特別容易取消班機'],\n",
       " ['3', 'DayOfWeek', 'int', '飛行日期_星期', 'O', '星期二特別容易取消班機,星期日最不容易取消班機'],\n",
       " ['4', 'DepTime', 'int', '飛行時間_起飛時間', 'X', \"如果班機取消,這個值必為'NA',不可選\"]]"
      ]
     },
     "execution_count": 4,
     "metadata": {},
     "output_type": "execute_result"
    }
   ],
   "source": [
    "col_info[:5]"
   ]
  },
  {
   "cell_type": "markdown",
   "metadata": {},
   "source": [
    "# 讀取資料"
   ]
  },
  {
   "cell_type": "code",
   "execution_count": 5,
   "metadata": {},
   "outputs": [],
   "source": [
    "from pyspark.conf import SparkConf\n",
    "conf = SparkConf()"
   ]
  },
  {
   "cell_type": "code",
   "execution_count": 6,
   "metadata": {},
   "outputs": [
    {
     "data": {
      "text/plain": [
       "<pyspark.conf.SparkConf at 0x7f10b046d150>"
      ]
     },
     "execution_count": 6,
     "metadata": {},
     "output_type": "execute_result"
    }
   ],
   "source": [
    "conf.setMaster(\"yarn\")\n",
    "conf.set(\"spark.executor.memory\", \"36g\")\n",
    "conf.set(\"spark.driver.memory\", \"36g\")\n",
    "conf.set(\"spark.cores.max\", \"9\")"
   ]
  },
  {
   "cell_type": "code",
   "execution_count": 7,
   "metadata": {},
   "outputs": [],
   "source": [
    "from pyspark.context import SparkContext\n",
    "from pyspark.sql.session import SparkSession\n",
    "sc = SparkContext(conf=conf)\n",
    "spark = SparkSession(sc)"
   ]
  },
  {
   "cell_type": "code",
   "execution_count": 8,
   "metadata": {},
   "outputs": [],
   "source": [
    "from pyspark.sql import SQLContext\n",
    "sqlContext = SQLContext(sc)"
   ]
  },
  {
   "cell_type": "code",
   "execution_count": 9,
   "metadata": {},
   "outputs": [],
   "source": [
    "SELECED_COLS_CATAG = ['UniqueCarrier', 'Origin', 'Dest', 'FlightNum']\n",
    "SELECED_COLS_FLOAT = ['Month', 'DayofMonth', 'DayOfWeek', 'CRSDepTime',  'CRSArrTime', 'CRSElapsedTime', 'Distance']\n",
    "LABEL_COL = 'Cancelled'"
   ]
  },
  {
   "cell_type": "code",
   "execution_count": 10,
   "metadata": {},
   "outputs": [],
   "source": [
    "from pyspark.sql.types import *\n",
    "\n",
    "schema = StructType([\n",
    "    StructField(ci[1], IntegerType() if ci[2]=='int' else StringType() , False) for ci in col_info ])#schema定義匯入欄位的資料型態\n",
    "\n",
    "df = sqlContext.read.format('com.databricks.spark.csv') \\\n",
    "        .options(header='true', inferschema='true') \\\n",
    "        .schema(schema) \\\n",
    "        .load('200[0-5].csv') \\\n",
    "        .select(['Year']+SELECED_COLS_CATAG+SELECED_COLS_FLOAT+[LABEL_COL]) #截取部分欄位之資料"
   ]
  },
  {
   "cell_type": "code",
   "execution_count": 11,
   "metadata": {},
   "outputs": [
    {
     "name": "stdout",
     "output_type": "stream",
     "text": [
      "CPU times: user 3.91 ms, sys: 1.85 ms, total: 5.76 ms\n",
      "Wall time: 5.64 s\n"
     ]
    },
    {
     "data": {
      "text/plain": [
       "[Row(Year=2000, UniqueCarrier='HP', Origin='ATL', Dest='PHX', FlightNum='154', Month=1, DayofMonth=28, DayOfWeek=5, CRSDepTime=1647, CRSArrTime=1859, CRSElapsedTime=252, Distance=1587, Cancelled=0)]"
      ]
     },
     "execution_count": 11,
     "metadata": {},
     "output_type": "execute_result"
    }
   ],
   "source": [
    "%%time\n",
    "df.take(1)"
   ]
  },
  {
   "cell_type": "code",
   "execution_count": 12,
   "metadata": {},
   "outputs": [
    {
     "name": "stdout",
     "output_type": "stream",
     "text": [
      "37680592\n",
      "37680322\n"
     ]
    }
   ],
   "source": [
    "print(df.count())#去除NA\n",
    "df = df.na.drop()\n",
    "print(df.count())"
   ]
  },
  {
   "cell_type": "code",
   "execution_count": 13,
   "metadata": {},
   "outputs": [],
   "source": [
    "df.createOrReplaceTempView(\"df\")"
   ]
  },
  {
   "cell_type": "markdown",
   "metadata": {},
   "source": [
    "# 資料前處理 新增欄位"
   ]
  },
  {
   "cell_type": "code",
   "execution_count": 14,
   "metadata": {},
   "outputs": [],
   "source": [
    "from pyspark.sql import Column\n",
    "from pyspark.sql.functions import UserDefinedFunction\n",
    "from pyspark.sql.functions import sin, cos\n",
    "from numpy import pi"
   ]
  },
  {
   "cell_type": "code",
   "execution_count": 15,
   "metadata": {},
   "outputs": [],
   "source": [
    "new_COLS_CATAG = [] #init 用來收錄最後要進data pipeline的離散型欄位\n",
    "new_COLS_FLOAT = [] #init 用來收錄最後要進data pipeline的連續型欄位"
   ]
  },
  {
   "cell_type": "markdown",
   "metadata": {},
   "source": [
    "### Distance"
   ]
  },
  {
   "cell_type": "code",
   "execution_count": 16,
   "metadata": {},
   "outputs": [
    {
     "name": "stdout",
     "output_type": "stream",
     "text": [
      "+-------------+\n",
      "|max(Distance)|\n",
      "+-------------+\n",
      "|         4962|\n",
      "+-------------+\n",
      "\n"
     ]
    }
   ],
   "source": [
    "spark.sql(\"select max(Distance) from df\").show()#找到最大站點間的距離, 拿來當歸一化分母"
   ]
  },
  {
   "cell_type": "code",
   "execution_count": 17,
   "metadata": {},
   "outputs": [],
   "source": [
    "udf_Distance_Norm = UserDefinedFunction(lambda x: x/4962, FloatType())#定義歸一化函數"
   ]
  },
  {
   "cell_type": "code",
   "execution_count": 18,
   "metadata": {},
   "outputs": [
    {
     "data": {
      "text/plain": [
       "[Row(Year=2000, UniqueCarrier='HP', Origin='ATL', Dest='PHX', FlightNum='154', Month=1, DayofMonth=28, DayOfWeek=5, CRSDepTime=1647, CRSArrTime=1859, CRSElapsedTime=252, Distance=1587, Cancelled=0, Distance_norm=0.3198307156562805)]"
      ]
     },
     "execution_count": 18,
     "metadata": {},
     "output_type": "execute_result"
    }
   ],
   "source": [
    "df = df.withColumn(\"Distance_norm\", udf_Distance_Norm(\"Distance\"))#新增欄位 Distance_norm 存放歸一化的值 實數介於[0,1]\n",
    "df.take(1)"
   ]
  },
  {
   "cell_type": "code",
   "execution_count": 19,
   "metadata": {},
   "outputs": [],
   "source": [
    "new_COLS_FLOAT.append(\"Distance_norm\")"
   ]
  },
  {
   "cell_type": "markdown",
   "metadata": {},
   "source": [
    "### Month, DayofMonth, DayOfWeek, CRSDepTime, CRSArrTime, CRSElapsedTime"
   ]
  },
  {
   "cell_type": "code",
   "execution_count": 20,
   "metadata": {},
   "outputs": [],
   "source": [
    "udf_Time_ToFloat = UserDefinedFunction(lambda x: ((x//100)/24+(1/24)*(x%100)/60)*2*pi, FloatType())\n",
    "udf_Month_ToFloat = UserDefinedFunction(lambda x: x/12*2*pi, FloatType())\n",
    "udf_DayofMonth_ToFloat = UserDefinedFunction(lambda x: x/31*2*pi, FloatType())\n",
    "udf_DayOfWeek_ToFloat = UserDefinedFunction(lambda x: x/7*2*pi, FloatType())"
   ]
  },
  {
   "cell_type": "code",
   "execution_count": 21,
   "metadata": {},
   "outputs": [
    {
     "data": {
      "text/plain": [
       "[Row(Year=2000, UniqueCarrier='HP', Origin='ATL', Dest='PHX', FlightNum='154', Month=1, DayofMonth=28, DayOfWeek=5, CRSDepTime=1647, CRSArrTime=1859, CRSElapsedTime=252, Distance=1587, Cancelled=0, Distance_norm=0.3198307156562805, CRSDepTime_f=4.393866539001465, CRSArrTime_f=4.969825267791748, CRSElapsedTime_f=0.7504915595054626, Month_f=0.5235987901687622, DayofMonth_f=5.675135135650635, DayOfWeek_f=4.48798942565918, Month_sin=0.5000000126183913, DayofMonth_sin=-0.5712681990994033, DayOfWeek_sin=-0.974927894498283, CRSDepTime_sin=-0.9496991722700603, CRSArrTime_sin=-0.9670458822044172)]"
      ]
     },
     "execution_count": 21,
     "metadata": {},
     "output_type": "execute_result"
    }
   ],
   "source": [
    "df = df.withColumn(\"CRSDepTime_f\", udf_Time_ToFloat(\"CRSDepTime\"))\n",
    "df = df.withColumn(\"CRSArrTime_f\", udf_Time_ToFloat(\"CRSArrTime\"))\n",
    "df = df.withColumn(\"CRSElapsedTime_f\", udf_Time_ToFloat(\"CRSElapsedTime\"))\n",
    "df = df.withColumn(\"Month_f\", udf_Month_ToFloat(\"Month\"))\n",
    "df = df.withColumn(\"DayofMonth_f\", udf_DayofMonth_ToFloat(\"DayofMonth\"))\n",
    "df = df.withColumn(\"DayOfWeek_f\", udf_DayOfWeek_ToFloat(\"DayOfWeek\"))\n",
    "for col_name in ['Month', 'DayofMonth', 'DayOfWeek', 'CRSDepTime',\"CRSArrTime\", \"CRSElapsedTime\"]:\n",
    "    new_COLS_FLOAT.append(col_name+\"_f\")#新增欄位 col_name+\"_f\" 存放歸一化後再乘以 (2*pi) 的值 實數介於[0,2*pi]\n",
    "    if col_name!=\"CRSElapsedTime\":\n",
    "        df = df.withColumn(col_name+\"_sin\", sin(col_name+\"_f\")) \n",
    "        new_COLS_FLOAT.append(col_name+\"_sin\")#新增欄位 col_name+\"_sin\" 存放特徵週期化後的值\n",
    "        \n",
    "df.take(1)"
   ]
  },
  {
   "cell_type": "raw",
   "metadata": {},
   "source": [
    "new_COLS_CATAG.append(\"Month\")#上述處理是將欄位 Month當作連續型資料, 但欄位 Month也同時作為離散型資料\n",
    "new_COLS_CATAG.append(\"DayOfWeek\")#上述處理是將欄位 DayOfWeek當作連續型資料, 但欄位 DayOfWeek也同時作為離散型資料"
   ]
  },
  {
   "cell_type": "markdown",
   "metadata": {},
   "source": [
    "### FlightNum"
   ]
  },
  {
   "cell_type": "code",
   "execution_count": 22,
   "metadata": {},
   "outputs": [],
   "source": [
    "sql_text1 = \"\"\"select X.{colname} , X.C as Qty_Cancelled, Y.C as Qty, round(X.C/Y.C*100,2) as CancelledRatio\n",
    "              from (select {colname}, count({colname}) as C from df where Cancelled=1 group by {colname}) X \n",
    "              join (select {colname}, count({colname}) as C from df group by {colname}) Y on X.{colname}=Y.{colname}\n",
    "            order by CancelledRatio DESC\"\"\""
   ]
  },
  {
   "cell_type": "code",
   "execution_count": 23,
   "metadata": {},
   "outputs": [
    {
     "name": "stdout",
     "output_type": "stream",
     "text": [
      "mkdir: 無法建立目錄‘stat’: 檔案已存在\n"
     ]
    }
   ],
   "source": [
    "!mkdir stat #建立資料夾存放儲存的檔案"
   ]
  },
  {
   "cell_type": "code",
   "execution_count": 24,
   "metadata": {},
   "outputs": [],
   "source": [
    "#離散型欄位資料, 選出具有代表性的特徵\n",
    "def select_catg(colname, \n",
    "                sql_text, \n",
    "                threshhold=7.0, #取消比率大於該門檻值, 即視為具有代表性的特徵, 可做 one-hot展開\n",
    "                qty_must_larger_than_med=False #是否開啟\"雖比率大於門檻,但數量必須超過類別中位數, 才可視為具有代表性的特徵\"\n",
    "               ):\n",
    "    df_pd = spark.sql(sql_text.format(colname=colname)).toPandas()#找出該欄位\n",
    "    df_pd.to_csv(f\"stat/col[{colname}]_stat.csv\")\n",
    "    if qty_must_larger_than_med:\n",
    "        med_Qty = df_pd.Qty.median()\n",
    "        df_pd = df_pd[df_pd.Qty>med_Qty]\n",
    "    catg_selected = list(df_pd[df_pd['CancelledRatio']>threshhold][colname])\n",
    "    return df_pd, catg_selected, df_pd.plot(colname,'CancelledRatio')"
   ]
  },
  {
   "cell_type": "code",
   "execution_count": 25,
   "metadata": {},
   "outputs": [
    {
     "data": {
      "image/png": "[encoded data removed]",
      "text/plain": [
       "<Figure size 432x288 with 1 Axes>"
      ]
     },
     "metadata": {
      "needs_background": "light"
     },
     "output_type": "display_data"
    }
   ],
   "source": [
    "df_pd_FlightNum, catg_selected_FlightNum, plot_ = \\\n",
    "    select_catg(\"FlightNum\", sql_text1, threshhold=7.0, qty_must_larger_than_med=True)"
   ]
  },
  {
   "cell_type": "code",
   "execution_count": 26,
   "metadata": {},
   "outputs": [
    {
     "data": {
      "text/html": [
       "<div>\n",
       "<style scoped>\n",
       "    .dataframe tbody tr th:only-of-type {\n",
       "        vertical-align: middle;\n",
       "    }\n",
       "\n",
       "    .dataframe tbody tr th {\n",
       "        vertical-align: top;\n",
       "    }\n",
       "\n",
       "    .dataframe thead th {\n",
       "        text-align: right;\n",
       "    }\n",
       "</style>\n",
       "<table border=\"1\" class=\"dataframe\">\n",
       "  <thead>\n",
       "    <tr style=\"text-align: right;\">\n",
       "      <th></th>\n",
       "      <th>FlightNum</th>\n",
       "      <th>Qty_Cancelled</th>\n",
       "      <th>Qty</th>\n",
       "      <th>CancelledRatio</th>\n",
       "    </tr>\n",
       "  </thead>\n",
       "  <tbody>\n",
       "    <tr>\n",
       "      <th>59</th>\n",
       "      <td>4218</td>\n",
       "      <td>210</td>\n",
       "      <td>2317</td>\n",
       "      <td>9.06</td>\n",
       "    </tr>\n",
       "    <tr>\n",
       "      <th>60</th>\n",
       "      <td>4511</td>\n",
       "      <td>199</td>\n",
       "      <td>2201</td>\n",
       "      <td>9.04</td>\n",
       "    </tr>\n",
       "    <tr>\n",
       "      <th>77</th>\n",
       "      <td>4380</td>\n",
       "      <td>221</td>\n",
       "      <td>2620</td>\n",
       "      <td>8.44</td>\n",
       "    </tr>\n",
       "    <tr>\n",
       "      <th>84</th>\n",
       "      <td>4093</td>\n",
       "      <td>198</td>\n",
       "      <td>2381</td>\n",
       "      <td>8.32</td>\n",
       "    </tr>\n",
       "    <tr>\n",
       "      <th>98</th>\n",
       "      <td>4508</td>\n",
       "      <td>182</td>\n",
       "      <td>2285</td>\n",
       "      <td>7.96</td>\n",
       "    </tr>\n",
       "  </tbody>\n",
       "</table>\n",
       "</div>"
      ],
      "text/plain": [
       "   FlightNum  Qty_Cancelled   Qty  CancelledRatio\n",
       "59      4218            210  2317            9.06\n",
       "60      4511            199  2201            9.04\n",
       "77      4380            221  2620            8.44\n",
       "84      4093            198  2381            8.32\n",
       "98      4508            182  2285            7.96"
      ]
     },
     "execution_count": 26,
     "metadata": {},
     "output_type": "execute_result"
    }
   ],
   "source": [
    "df_pd_FlightNum.head()"
   ]
  },
  {
   "cell_type": "code",
   "execution_count": 27,
   "metadata": {},
   "outputs": [],
   "source": [
    "def MarkElse(col_name, catg_selected):\n",
    "    global df, new_COLS_CATAG\n",
    "    # 把影響比較不顯著的值改成 'ELSE'\n",
    "    print(f\"修改前 [{col_name}] 種類數量:\", df.select(col_name).distinct().count())\n",
    "    udf_MarkElse = UserDefinedFunction(lambda x: x if x in catg_selected else \"ELSE\", StringType())\n",
    "    df = df.withColumn(col_name+\"_m\", udf_MarkElse(col_name))\n",
    "    new_COLS_CATAG.append(col_name+\"_m\")\n",
    "    print(f\"修改後 [{col_name+'_m'}] 種類數量:\", df.select(col_name+\"_m\").distinct().count())"
   ]
  },
  {
   "cell_type": "code",
   "execution_count": 28,
   "metadata": {},
   "outputs": [
    {
     "name": "stdout",
     "output_type": "stream",
     "text": [
      "修改前 [FlightNum] 種類數量: 7965\n",
      "修改後 [FlightNum_m] 種類數量: 21\n"
     ]
    }
   ],
   "source": [
    "MarkElse(\"FlightNum\", catg_selected_FlightNum)"
   ]
  },
  {
   "cell_type": "markdown",
   "metadata": {},
   "source": [
    "### Origin"
   ]
  },
  {
   "cell_type": "code",
   "execution_count": 29,
   "metadata": {},
   "outputs": [
    {
     "data": {
      "image/png": "[encoded data removed]",
      "text/plain": [
       "<Figure size 432x288 with 1 Axes>"
      ]
     },
     "metadata": {
      "needs_background": "light"
     },
     "output_type": "display_data"
    }
   ],
   "source": [
    "df_pd_Origin, catg_selected_Origin, plot_ = \\\n",
    "    select_catg(\"Origin\", sql_text1, threshhold=5.0, qty_must_larger_than_med=False)"
   ]
  },
  {
   "cell_type": "code",
   "execution_count": 30,
   "metadata": {},
   "outputs": [
    {
     "data": {
      "text/html": [
       "<div>\n",
       "<style scoped>\n",
       "    .dataframe tbody tr th:only-of-type {\n",
       "        vertical-align: middle;\n",
       "    }\n",
       "\n",
       "    .dataframe tbody tr th {\n",
       "        vertical-align: top;\n",
       "    }\n",
       "\n",
       "    .dataframe thead th {\n",
       "        text-align: right;\n",
       "    }\n",
       "</style>\n",
       "<table border=\"1\" class=\"dataframe\">\n",
       "  <thead>\n",
       "    <tr style=\"text-align: right;\">\n",
       "      <th></th>\n",
       "      <th>Origin</th>\n",
       "      <th>Qty_Cancelled</th>\n",
       "      <th>Qty</th>\n",
       "      <th>CancelledRatio</th>\n",
       "    </tr>\n",
       "  </thead>\n",
       "  <tbody>\n",
       "    <tr>\n",
       "      <th>0</th>\n",
       "      <td>PVU</td>\n",
       "      <td>1</td>\n",
       "      <td>2</td>\n",
       "      <td>50.00</td>\n",
       "    </tr>\n",
       "    <tr>\n",
       "      <th>1</th>\n",
       "      <td>PUB</td>\n",
       "      <td>1</td>\n",
       "      <td>3</td>\n",
       "      <td>33.33</td>\n",
       "    </tr>\n",
       "    <tr>\n",
       "      <th>2</th>\n",
       "      <td>DUT</td>\n",
       "      <td>611</td>\n",
       "      <td>2752</td>\n",
       "      <td>22.20</td>\n",
       "    </tr>\n",
       "    <tr>\n",
       "      <th>3</th>\n",
       "      <td>ORH</td>\n",
       "      <td>178</td>\n",
       "      <td>1281</td>\n",
       "      <td>13.90</td>\n",
       "    </tr>\n",
       "    <tr>\n",
       "      <th>4</th>\n",
       "      <td>ACK</td>\n",
       "      <td>57</td>\n",
       "      <td>662</td>\n",
       "      <td>8.61</td>\n",
       "    </tr>\n",
       "  </tbody>\n",
       "</table>\n",
       "</div>"
      ],
      "text/plain": [
       "  Origin  Qty_Cancelled   Qty  CancelledRatio\n",
       "0    PVU              1     2           50.00\n",
       "1    PUB              1     3           33.33\n",
       "2    DUT            611  2752           22.20\n",
       "3    ORH            178  1281           13.90\n",
       "4    ACK             57   662            8.61"
      ]
     },
     "execution_count": 30,
     "metadata": {},
     "output_type": "execute_result"
    }
   ],
   "source": [
    "df_pd_Origin.head()"
   ]
  },
  {
   "cell_type": "code",
   "execution_count": 31,
   "metadata": {},
   "outputs": [
    {
     "name": "stdout",
     "output_type": "stream",
     "text": [
      "修改前 [Origin] 種類數量: 301\n",
      "修改後 [Origin_m] 種類數量: 26\n"
     ]
    }
   ],
   "source": [
    "MarkElse(\"Origin\", catg_selected_Origin)"
   ]
  },
  {
   "cell_type": "markdown",
   "metadata": {},
   "source": [
    "### Dest"
   ]
  },
  {
   "cell_type": "code",
   "execution_count": 32,
   "metadata": {},
   "outputs": [
    {
     "data": {
      "image/png": "[encoded data removed]",
      "text/plain": [
       "<Figure size 432x288 with 1 Axes>"
      ]
     },
     "metadata": {
      "needs_background": "light"
     },
     "output_type": "display_data"
    }
   ],
   "source": [
    "df_pd_Dest, catg_selected_Dest, plot_ = \\\n",
    "    select_catg(\"Dest\", sql_text1, threshhold=5.0, qty_must_larger_than_med=False)"
   ]
  },
  {
   "cell_type": "code",
   "execution_count": 33,
   "metadata": {},
   "outputs": [
    {
     "data": {
      "text/html": [
       "<div>\n",
       "<style scoped>\n",
       "    .dataframe tbody tr th:only-of-type {\n",
       "        vertical-align: middle;\n",
       "    }\n",
       "\n",
       "    .dataframe tbody tr th {\n",
       "        vertical-align: top;\n",
       "    }\n",
       "\n",
       "    .dataframe thead th {\n",
       "        text-align: right;\n",
       "    }\n",
       "</style>\n",
       "<table border=\"1\" class=\"dataframe\">\n",
       "  <thead>\n",
       "    <tr style=\"text-align: right;\">\n",
       "      <th></th>\n",
       "      <th>Dest</th>\n",
       "      <th>Qty_Cancelled</th>\n",
       "      <th>Qty</th>\n",
       "      <th>CancelledRatio</th>\n",
       "    </tr>\n",
       "  </thead>\n",
       "  <tbody>\n",
       "    <tr>\n",
       "      <th>0</th>\n",
       "      <td>DUT</td>\n",
       "      <td>605</td>\n",
       "      <td>2752</td>\n",
       "      <td>21.98</td>\n",
       "    </tr>\n",
       "    <tr>\n",
       "      <th>1</th>\n",
       "      <td>ORH</td>\n",
       "      <td>160</td>\n",
       "      <td>1279</td>\n",
       "      <td>12.51</td>\n",
       "    </tr>\n",
       "    <tr>\n",
       "      <th>2</th>\n",
       "      <td>ACK</td>\n",
       "      <td>61</td>\n",
       "      <td>662</td>\n",
       "      <td>9.21</td>\n",
       "    </tr>\n",
       "    <tr>\n",
       "      <th>3</th>\n",
       "      <td>ADK</td>\n",
       "      <td>21</td>\n",
       "      <td>280</td>\n",
       "      <td>7.50</td>\n",
       "    </tr>\n",
       "    <tr>\n",
       "      <th>4</th>\n",
       "      <td>ADQ</td>\n",
       "      <td>311</td>\n",
       "      <td>4298</td>\n",
       "      <td>7.24</td>\n",
       "    </tr>\n",
       "  </tbody>\n",
       "</table>\n",
       "</div>"
      ],
      "text/plain": [
       "  Dest  Qty_Cancelled   Qty  CancelledRatio\n",
       "0  DUT            605  2752           21.98\n",
       "1  ORH            160  1279           12.51\n",
       "2  ACK             61   662            9.21\n",
       "3  ADK             21   280            7.50\n",
       "4  ADQ            311  4298            7.24"
      ]
     },
     "execution_count": 33,
     "metadata": {},
     "output_type": "execute_result"
    }
   ],
   "source": [
    "df_pd_Dest.head()"
   ]
  },
  {
   "cell_type": "code",
   "execution_count": 34,
   "metadata": {},
   "outputs": [
    {
     "name": "stdout",
     "output_type": "stream",
     "text": [
      "修改前 [Dest] 種類數量: 305\n",
      "修改後 [Dest_m] 種類數量: 16\n"
     ]
    }
   ],
   "source": [
    "MarkElse(\"Dest\", catg_selected_Dest)"
   ]
  },
  {
   "cell_type": "markdown",
   "metadata": {},
   "source": [
    "### UniqueCarrier"
   ]
  },
  {
   "cell_type": "code",
   "execution_count": 35,
   "metadata": {},
   "outputs": [
    {
     "name": "stdout",
     "output_type": "stream",
     "text": [
      "[UniqueCarrier] 種類數量: 22\n"
     ]
    },
    {
     "data": {
      "text/plain": [
       "<matplotlib.axes._subplots.AxesSubplot at 0x7f1082c4e510>"
      ]
     },
     "execution_count": 35,
     "metadata": {},
     "output_type": "execute_result"
    },
    {
     "data": {
      "image/png": "[encoded data removed]",
      "text/plain": [
       "<Figure size 432x288 with 1 Axes>"
      ]
     },
     "metadata": {
      "needs_background": "light"
     },
     "output_type": "display_data"
    }
   ],
   "source": [
    "df_pd_UniqueCarrier = spark.sql(sql_text1.format(colname=\"UniqueCarrier\")).toPandas()\n",
    "print(\"[UniqueCarrier] 種類數量:\", df_pd_UniqueCarrier.shape[0]) \n",
    "df_pd_UniqueCarrier.plot('UniqueCarrier','CancelledRatio')"
   ]
  },
  {
   "cell_type": "code",
   "execution_count": 36,
   "metadata": {},
   "outputs": [],
   "source": [
    "df_pd_UniqueCarrier.to_csv(f\"stat/col[UniqueCarrier]_stat.csv\")"
   ]
  },
  {
   "cell_type": "code",
   "execution_count": 37,
   "metadata": {},
   "outputs": [
    {
     "name": "stdout",
     "output_type": "stream",
     "text": [
      "此欄位不修改\n"
     ]
    }
   ],
   "source": [
    "print(\"此欄位不修改\")\n",
    "new_COLS_CATAG.append('UniqueCarrier')"
   ]
  },
  {
   "cell_type": "code",
   "execution_count": 38,
   "metadata": {},
   "outputs": [
    {
     "data": {
      "text/plain": [
       "[Row(Year=2000, UniqueCarrier='HP', Origin='ATL', Dest='PHX', FlightNum='154', Month=1, DayofMonth=28, DayOfWeek=5, CRSDepTime=1647, CRSArrTime=1859, CRSElapsedTime=252, Distance=1587, Cancelled=0, Distance_norm=0.3198307156562805, CRSDepTime_f=4.393866539001465, CRSArrTime_f=4.969825267791748, CRSElapsedTime_f=0.7504915595054626, Month_f=0.5235987901687622, DayofMonth_f=5.675135135650635, DayOfWeek_f=4.48798942565918, Month_sin=0.5000000126183913, DayofMonth_sin=-0.5712681990994033, DayOfWeek_sin=-0.974927894498283, CRSDepTime_sin=-0.9496991722700603, CRSArrTime_sin=-0.9670458822044172, FlightNum_m='ELSE', Origin_m='ELSE', Dest_m='ELSE')]"
      ]
     },
     "execution_count": 38,
     "metadata": {},
     "output_type": "execute_result"
    }
   ],
   "source": [
    "df.createOrReplaceTempView(\"df\")\n",
    "df.take(1)"
   ]
  },
  {
   "cell_type": "markdown",
   "metadata": {},
   "source": [
    "### class_weight"
   ]
  },
  {
   "cell_type": "code",
   "execution_count": 39,
   "metadata": {},
   "outputs": [
    {
     "name": "stdout",
     "output_type": "stream",
     "text": [
      "班機取消的比例:  0.022466050051270794\n"
     ]
    }
   ],
   "source": [
    "weightNonCanceled = df.where(\"Cancelled=1\").count()/df.count()\n",
    "print(\"班機取消的比例: \", weightNonCanceled )"
   ]
  },
  {
   "cell_type": "code",
   "execution_count": 40,
   "metadata": {},
   "outputs": [],
   "source": [
    "udf_weight_class = UserDefinedFunction(lambda x: 1-weightNonCanceled if x==1 else weightNonCanceled , FloatType())\n",
    "df = df.withColumn(\"class_weight\", udf_weight_class(\"Cancelled\"))"
   ]
  },
  {
   "cell_type": "code",
   "execution_count": 41,
   "metadata": {},
   "outputs": [
    {
     "data": {
      "text/plain": [
       "[Row(Year=2000, UniqueCarrier='HP', Origin='ATL', Dest='PHX', FlightNum='154', Month=1, DayofMonth=30, DayOfWeek=7, CRSDepTime=1647, CRSArrTime=1859, CRSElapsedTime=252, Distance=1587, Cancelled=1, Distance_norm=0.3198307156562805, CRSDepTime_f=4.393866539001465, CRSArrTime_f=4.969825267791748, CRSElapsedTime_f=0.7504915595054626, Month_f=0.5235987901687622, DayofMonth_f=6.080502033233643, DayOfWeek_f=6.2831854820251465, Month_sin=0.5000000126183913, DayofMonth_sin=-0.2012983995478517, DayOfWeek_sin=1.7484556000744883e-07, CRSDepTime_sin=-0.9496991722700603, CRSArrTime_sin=-0.9670458822044172, FlightNum_m='ELSE', Origin_m='ELSE', Dest_m='ELSE', class_weight=0.9775339365005493)]"
      ]
     },
     "execution_count": 41,
     "metadata": {},
     "output_type": "execute_result"
    }
   ],
   "source": [
    "df.where(\"Cancelled=1\").take(1)"
   ]
  },
  {
   "cell_type": "code",
   "execution_count": 42,
   "metadata": {},
   "outputs": [
    {
     "data": {
      "text/html": [
       "<div>\n",
       "<style scoped>\n",
       "    .dataframe tbody tr th:only-of-type {\n",
       "        vertical-align: middle;\n",
       "    }\n",
       "\n",
       "    .dataframe tbody tr th {\n",
       "        vertical-align: top;\n",
       "    }\n",
       "\n",
       "    .dataframe thead th {\n",
       "        text-align: right;\n",
       "    }\n",
       "</style>\n",
       "<table border=\"1\" class=\"dataframe\">\n",
       "  <thead>\n",
       "    <tr style=\"text-align: right;\">\n",
       "      <th></th>\n",
       "      <th>Year</th>\n",
       "      <th>Qty</th>\n",
       "      <th>Qty_NotCancelled</th>\n",
       "      <th>Qty_Cancelled</th>\n",
       "      <th>CancelledRatio</th>\n",
       "    </tr>\n",
       "  </thead>\n",
       "  <tbody>\n",
       "    <tr>\n",
       "      <th>0</th>\n",
       "      <td>2000</td>\n",
       "      <td>5682778</td>\n",
       "      <td>5495547</td>\n",
       "      <td>187231</td>\n",
       "      <td>0.0329</td>\n",
       "    </tr>\n",
       "    <tr>\n",
       "      <th>1</th>\n",
       "      <td>2001</td>\n",
       "      <td>5967780</td>\n",
       "      <td>5736582</td>\n",
       "      <td>231198</td>\n",
       "      <td>0.0387</td>\n",
       "    </tr>\n",
       "    <tr>\n",
       "      <th>2</th>\n",
       "      <td>2002</td>\n",
       "      <td>5271359</td>\n",
       "      <td>5206216</td>\n",
       "      <td>65143</td>\n",
       "      <td>0.0124</td>\n",
       "    </tr>\n",
       "    <tr>\n",
       "      <th>3</th>\n",
       "      <td>2003</td>\n",
       "      <td>6488539</td>\n",
       "      <td>6387070</td>\n",
       "      <td>101469</td>\n",
       "      <td>0.0156</td>\n",
       "    </tr>\n",
       "    <tr>\n",
       "      <th>4</th>\n",
       "      <td>2004</td>\n",
       "      <td>7129270</td>\n",
       "      <td>7001513</td>\n",
       "      <td>127757</td>\n",
       "      <td>0.0179</td>\n",
       "    </tr>\n",
       "    <tr>\n",
       "      <th>5</th>\n",
       "      <td>2005</td>\n",
       "      <td>7140596</td>\n",
       "      <td>7006866</td>\n",
       "      <td>133730</td>\n",
       "      <td>0.0187</td>\n",
       "    </tr>\n",
       "  </tbody>\n",
       "</table>\n",
       "</div>"
      ],
      "text/plain": [
       "   Year      Qty  Qty_NotCancelled  Qty_Cancelled  CancelledRatio\n",
       "0  2000  5682778           5495547         187231          0.0329\n",
       "1  2001  5967780           5736582         231198          0.0387\n",
       "2  2002  5271359           5206216          65143          0.0124\n",
       "3  2003  6488539           6387070         101469          0.0156\n",
       "4  2004  7129270           7001513         127757          0.0179\n",
       "5  2005  7140596           7006866         133730          0.0187"
      ]
     },
     "execution_count": 42,
     "metadata": {},
     "output_type": "execute_result"
    }
   ],
   "source": [
    "sql_text2 = \"\"\"select YY.{colname} , YY.Qty, XX.Qty_NotCancelled, XX.Qty_Cancelled, round(XX.Qty_Cancelled/YY.Qty,4) as CancelledRatio\n",
    "              from ((select {colname} as YearX, count({colname}) as Qty_NotCancelled from df where Cancelled=0 group by {colname}) X \n",
    "              join (select {colname} as YearY, count({colname}) as Qty_Cancelled from df where Cancelled=1 group by {colname}) Y on X.{colname}X=Y.{colname}Y) XX\n",
    "              join (select {colname}, count({colname}) as Qty from df group by {colname}) YY on XX.{colname}X=YY.{colname}\n",
    "            order by YY.{colname}\"\"\"\n",
    "dataset_info = spark.sql(sql_text2.format(colname=\"Year\")).toPandas()\n",
    "dataset_info.to_csv(\"dataset_info.csv\")\n",
    "dataset_info"
   ]
  },
  {
   "cell_type": "markdown",
   "metadata": {},
   "source": [
    "# 建立模型"
   ]
  },
  {
   "cell_type": "markdown",
   "metadata": {},
   "source": [
    "ref: https://weiminwang.blog/2016/06/09/pyspark-tutorial-building-a-random-forest-binary-classifier-on-unbalanced-dataset/"
   ]
  },
  {
   "cell_type": "markdown",
   "metadata": {},
   "source": [
    "ref: https://spark.apache.org/docs/latest/ml-tuning.html"
   ]
  },
  {
   "cell_type": "code",
   "execution_count": 43,
   "metadata": {},
   "outputs": [],
   "source": [
    "from pyspark.ml import Pipeline\n",
    "from pyspark.ml.feature import StringIndexer, OneHotEncoder, OneHotEncoderEstimator, VectorAssembler\n",
    "from pyspark.ml.classification import LogisticRegression, RandomForestClassifier\n",
    "from pyspark.ml.feature import IndexToString, StringIndexer, VectorIndexer\n",
    "from pyspark.ml.tuning import CrossValidator, TrainValidationSplit, ParamGridBuilder\n",
    "from pyspark.ml.evaluation import BinaryClassificationEvaluator"
   ]
  },
  {
   "cell_type": "code",
   "execution_count": 44,
   "metadata": {},
   "outputs": [
    {
     "data": {
      "text/plain": [
       "(['FlightNum_m', 'Origin_m', 'Dest_m', 'UniqueCarrier'],\n",
       " ['Distance_norm',\n",
       "  'Month_f',\n",
       "  'Month_sin',\n",
       "  'DayofMonth_f',\n",
       "  'DayofMonth_sin',\n",
       "  'DayOfWeek_f',\n",
       "  'DayOfWeek_sin',\n",
       "  'CRSDepTime_f',\n",
       "  'CRSDepTime_sin',\n",
       "  'CRSArrTime_f',\n",
       "  'CRSArrTime_sin',\n",
       "  'CRSElapsedTime_f'])"
      ]
     },
     "execution_count": 44,
     "metadata": {},
     "output_type": "execute_result"
    }
   ],
   "source": [
    "new_COLS_CATAG, new_COLS_FLOAT #檢查有沒有重複的 col_name"
   ]
  },
  {
   "cell_type": "markdown",
   "metadata": {},
   "source": [
    "## 資料pipeline"
   ]
  },
  {
   "cell_type": "code",
   "execution_count": 45,
   "metadata": {},
   "outputs": [],
   "source": [
    "indexers = [\n",
    "    StringIndexer(inputCol=c, outputCol=\"{0}_indexed\".format(c)).setHandleInvalid(\"keep\")#\"skip\", \"keep\", \"error\"\n",
    "    for c in new_COLS_CATAG\n",
    "]\n",
    "encoder = OneHotEncoderEstimator(\n",
    "        inputCols=[indexer.getOutputCol() for indexer in indexers],\n",
    "        outputCols=[\"{0}_encoded\".format(indexer.getOutputCol()) for indexer in indexers]\n",
    ")\n",
    "vectorAssembler = VectorAssembler(\n",
    "    inputCols=encoder.getOutputCols()+new_COLS_FLOAT, \n",
    "    outputCol=\"features\"\n",
    ")"
   ]
  },
  {
   "cell_type": "code",
   "execution_count": 46,
   "metadata": {},
   "outputs": [
    {
     "name": "stdout",
     "output_type": "stream",
     "text": [
      "CPU times: user 43.4 ms, sys: 9.7 ms, total: 53.1 ms\n",
      "Wall time: 58.4 s\n"
     ]
    }
   ],
   "source": [
    "%%time\n",
    "pipeline = Pipeline(stages=indexers+[encoder, vectorAssembler]).fit(df)\n",
    "allData = pipeline.transform(df)"
   ]
  },
  {
   "cell_type": "code",
   "execution_count": 47,
   "metadata": {},
   "outputs": [
    {
     "name": "stdout",
     "output_type": "stream",
     "text": [
      "Distribution of Pos and Neg in allData is:  [Row(Cancelled=1, count=846528), Row(Cancelled=0, count=36833794)]\n"
     ]
    }
   ],
   "source": [
    "print(\"Distribution of Pos and Neg in allData is: \", allData.groupBy(LABEL_COL).count().take(3))#check"
   ]
  },
  {
   "cell_type": "code",
   "execution_count": 48,
   "metadata": {},
   "outputs": [],
   "source": [
    "#del df\n",
    "trainingData = allData.where(f\"Year!=2005\")#.cache()\n",
    "testData = allData.where(f\"Year=2005\")"
   ]
  },
  {
   "cell_type": "code",
   "execution_count": 49,
   "metadata": {},
   "outputs": [
    {
     "name": "stdout",
     "output_type": "stream",
     "text": [
      "Distribution of Pos and Neg in trainingData is:  [Row(Cancelled=1, count=712798), Row(Cancelled=0, count=29826928)]\n",
      "Distribution of Pos and Neg in trainingData is:  [Row(Cancelled=1, count=133730), Row(Cancelled=0, count=7006866)]\n"
     ]
    }
   ],
   "source": [
    "print(\"Distribution of Pos and Neg in trainingData is: \", trainingData.groupBy(LABEL_COL).count().take(3))\n",
    "print(\"Distribution of Pos and Neg in trainingData is: \", testData.groupBy(LABEL_COL).count().take(3))"
   ]
  },
  {
   "cell_type": "markdown",
   "metadata": {},
   "source": [
    "## LR 模型"
   ]
  },
  {
   "cell_type": "code",
   "execution_count": 50,
   "metadata": {},
   "outputs": [],
   "source": [
    "evaluator = BinaryClassificationEvaluator(\n",
    "    labelCol=LABEL_COL, \n",
    "    rawPredictionCol=\"prediction\", \n",
    "    metricName=\"areaUnderROC\")"
   ]
  },
  {
   "cell_type": "code",
   "execution_count": 52,
   "metadata": {},
   "outputs": [],
   "source": [
    "lr = LogisticRegression(maxIter=10, elasticNetParam=0.0, fitIntercept=True)  \\\n",
    "    .setWeightCol(\"class_weight\") \\\n",
    "    .setLabelCol(LABEL_COL) \\\n",
    "    .setFeaturesCol(\"features\")\n",
    "\n",
    "paramGrid_lr = ParamGridBuilder()\\\n",
    "    .addGrid(lr.regParam, [0.001, 1e-4, 1e-5, 1e-6]) \\\n",
    "    .build()"
   ]
  },
  {
   "cell_type": "markdown",
   "metadata": {},
   "source": [
    "### tvs - 訓練"
   ]
  },
  {
   "cell_type": "code",
   "execution_count": 53,
   "metadata": {},
   "outputs": [
    {
     "name": "stdout",
     "output_type": "stream",
     "text": [
      "CPU times: user 366 ms, sys: 117 ms, total: 483 ms\n",
      "Wall time: 3min 3s\n"
     ]
    }
   ],
   "source": [
    "%%time\n",
    "tvs = TrainValidationSplit(estimator=lr,\n",
    "                           estimatorParamMaps=paramGrid_lr,\n",
    "                           evaluator=evaluator,\n",
    "                           # 80% of the data will be used for training, 20% for validation.\n",
    "                           trainRatio=0.8)\n",
    "tvs = tvs.fit(trainingData)\n",
    "bestModel_tvs = tvs.bestModel #取得最佳模型"
   ]
  },
  {
   "cell_type": "code",
   "execution_count": 54,
   "metadata": {},
   "outputs": [],
   "source": [
    "tvs.save(\"lr_tvs\")"
   ]
  },
  {
   "cell_type": "code",
   "execution_count": 56,
   "metadata": {},
   "outputs": [
    {
     "data": {
      "text/plain": [
       "{'regParam': 1e-05}"
      ]
     },
     "execution_count": 56,
     "metadata": {},
     "output_type": "execute_result"
    }
   ],
   "source": [
    "java_model =bestModel_tvs._java_obj #印出最佳參數\n",
    "{param.name: java_model.getOrDefault(java_model.getParam(param.name)) \n",
    "    for param in paramGrid_lr[0]}"
   ]
  },
  {
   "cell_type": "markdown",
   "metadata": {},
   "source": [
    "### tvs - 驗證模型"
   ]
  },
  {
   "cell_type": "code",
   "execution_count": 57,
   "metadata": {},
   "outputs": [],
   "source": [
    "predicted = bestModel_tvs.transform(testData).select('probability', LABEL_COL, \"prediction\").collect()"
   ]
  },
  {
   "cell_type": "code",
   "execution_count": 59,
   "metadata": {},
   "outputs": [
    {
     "name": "stdout",
     "output_type": "stream",
     "text": [
      "CPU times: user 22.4 s, sys: 112 ms, total: 22.5 s\n",
      "Wall time: 22.6 s\n"
     ]
    },
    {
     "data": {
      "text/plain": [
       "(83366, 3074028, 3932838, 50364)"
      ]
     },
     "execution_count": 59,
     "metadata": {},
     "output_type": "execute_result"
    }
   ],
   "source": [
    "%%time\n",
    "tp = sum([(i[2]==1.0) and (i[1]==1) for i in predicted])\n",
    "fp = sum([(i[2]==1.0) and (i[1]==0) for i in predicted])\n",
    "tn = sum([(i[2]==0.0) and (i[1]==0) for i in predicted])\n",
    "fn = sum([(i[2]==0.0) and (i[1]==1) for i in predicted])\n",
    "tp, fp, tn, fn"
   ]
  },
  {
   "cell_type": "code",
   "execution_count": 65,
   "metadata": {},
   "outputs": [
    {
     "name": "stdout",
     "output_type": "stream",
     "text": [
      "+---------+--------------------+\n",
      "|   metric|               value|\n",
      "+---------+--------------------+\n",
      "|       TP|             83366.0|\n",
      "|       FP|           3074028.0|\n",
      "|       TN|           3932838.0|\n",
      "|       FN|             50364.0|\n",
      "|Precision|0.026403420035636983|\n",
      "|   Recall|  0.6233904135197786|\n",
      "| F1-Score| 0.05066111152299336|\n",
      "+---------+--------------------+\n",
      "\n"
     ]
    }
   ],
   "source": [
    "r = tp / (tp + fn)\n",
    "p =  tp / (tp + fp)\n",
    "f1 = 2/(1/r+1/p)\n",
    "metrics = spark.createDataFrame([\n",
    " (\"TP\", float(tp)),\n",
    " (\"FP\", float(fp)),\n",
    " (\"TN\", float(tn)),\n",
    " (\"FN\", float(fn)),\n",
    " (\"Precision\", p ),\n",
    " (\"Recall\", r),\n",
    " (\"F1-Score\", f1)], [\"metric\", \"value\"])\n",
    "metrics.show()"
   ]
  },
  {
   "cell_type": "code",
   "execution_count": 66,
   "metadata": {},
   "outputs": [],
   "source": [
    "results_list = [(float(i[0][0]), 1.0-float(i[1])) for i in predicted]"
   ]
  },
  {
   "cell_type": "code",
   "execution_count": 67,
   "metadata": {},
   "outputs": [
    {
     "data": {
      "image/png": "[encoded data removed]",
      "text/plain": [
       "<Figure size 432x288 with 1 Axes>"
      ]
     },
     "metadata": {
      "needs_background": "light"
     },
     "output_type": "display_data"
    }
   ],
   "source": [
    "from sklearn.metrics import roc_curve, auc\n",
    "from matplotlib import pyplot as plt\n",
    "%matplotlib inline\n",
    " \n",
    "fpr = dict()\n",
    "tpr = dict()\n",
    "roc_auc = dict()\n",
    " \n",
    "y_test = [i[1] for i in results_list]\n",
    "y_score = [i[0] for i in results_list]\n",
    " \n",
    "fpr, tpr, _ = roc_curve(y_test, y_score)\n",
    "roc_auc = auc(fpr, tpr)\n",
    " \n",
    "%matplotlib inline\n",
    "plt.figure()\n",
    "plt.plot(fpr, tpr, label='ROC curve (area = %0.2f)' % roc_auc)\n",
    "plt.plot([0, 1], [0, 1], 'k--')\n",
    "plt.xlim([0.0, 1.0])\n",
    "plt.ylim([0.0, 1.05])\n",
    "plt.xlabel('False Positive Rate')\n",
    "plt.ylabel('True Positive Rate')\n",
    "plt.title('Receiver operating characteristic example')\n",
    "plt.legend(loc=\"lower right\")\n",
    "plt.show()"
   ]
  },
  {
   "cell_type": "markdown",
   "metadata": {},
   "source": [
    "### cv - 訓練"
   ]
  },
  {
   "cell_type": "code",
   "execution_count": 68,
   "metadata": {},
   "outputs": [
    {
     "name": "stdout",
     "output_type": "stream",
     "text": [
      "CPU times: user 1.93 s, sys: 472 ms, total: 2.4 s\n",
      "Wall time: 12min 18s\n"
     ]
    }
   ],
   "source": [
    "%%time\n",
    "cv = CrossValidator(estimator=lr,\n",
    "                    estimatorParamMaps=paramGrid_lr,\n",
    "                    evaluator=evaluator,\n",
    "                    numFolds=5)  # use 3+ folds in practice\n",
    "cv = cv.fit(trainingData)\n",
    "bestModel_cv = cv.bestModel #取得最佳模型"
   ]
  },
  {
   "cell_type": "code",
   "execution_count": 69,
   "metadata": {},
   "outputs": [],
   "source": [
    "cv.write().overwrite().save(\"lr_cv\")"
   ]
  },
  {
   "cell_type": "code",
   "execution_count": 70,
   "metadata": {},
   "outputs": [
    {
     "data": {
      "text/plain": [
       "{'regParam': 0.0001}"
      ]
     },
     "execution_count": 70,
     "metadata": {},
     "output_type": "execute_result"
    }
   ],
   "source": [
    "java_model =bestModel_cv._java_obj #印出最佳參數\n",
    "{param.name: java_model.getOrDefault(java_model.getParam(param.name)) \n",
    "    for param in paramGrid_lr[0]}"
   ]
  },
  {
   "cell_type": "markdown",
   "metadata": {},
   "source": [
    "### cv - 驗證模型"
   ]
  },
  {
   "cell_type": "code",
   "execution_count": null,
   "metadata": {},
   "outputs": [],
   "source": [
    "predicted = bestModel_cv.transform(testData).select('probability', LABEL_COL, \"prediction\").collect()"
   ]
  },
  {
   "cell_type": "code",
   "execution_count": null,
   "metadata": {},
   "outputs": [],
   "source": [
    "%%time\n",
    "tp = sum([(i[2]==1.0) and (i[1]==1) for i in predicted])\n",
    "fp = sum([(i[2]==1.0) and (i[1]==0) for i in predicted])\n",
    "tn = sum([(i[2]==0.0) and (i[1]==0) for i in predicted])\n",
    "fn = sum([(i[2]==0.0) and (i[1]==1) for i in predicted])\n",
    "tp, fp, tn, fn"
   ]
  },
  {
   "cell_type": "code",
   "execution_count": null,
   "metadata": {},
   "outputs": [],
   "source": [
    "r = tp / (tp + fn)\n",
    "p =  tp / (tp + fp)\n",
    "f1 = 2/(1/r+1/p)\n",
    "metrics = spark.createDataFrame([\n",
    " (\"TP\", float(tp)),\n",
    " (\"FP\", float(fp)),\n",
    " (\"TN\", float(tn)),\n",
    " (\"FN\", float(fn)),\n",
    " (\"Precision\", p ),\n",
    " (\"Recall\", r),\n",
    " (\"F1-Score\", f1)], [\"metric\", \"value\"])\n",
    "metrics.show()"
   ]
  },
  {
   "cell_type": "code",
   "execution_count": null,
   "metadata": {},
   "outputs": [],
   "source": [
    "results_list = [(float(i[0][0]), 1.0-float(i[1])) for i in predicted]"
   ]
  },
  {
   "cell_type": "code",
   "execution_count": null,
   "metadata": {},
   "outputs": [],
   "source": [
    "from sklearn.metrics import roc_curve, auc\n",
    "from matplotlib import pyplot as plt\n",
    "%matplotlib inline\n",
    " \n",
    "fpr = dict()\n",
    "tpr = dict()\n",
    "roc_auc = dict()\n",
    " \n",
    "y_test = [i[1] for i in results_list]\n",
    "y_score = [i[0] for i in results_list]\n",
    " \n",
    "fpr, tpr, _ = roc_curve(y_test, y_score)\n",
    "roc_auc = auc(fpr, tpr)\n",
    " \n",
    "%matplotlib inline\n",
    "plt.figure()\n",
    "plt.plot(fpr, tpr, label='ROC curve (area = %0.2f)' % roc_auc)\n",
    "plt.plot([0, 1], [0, 1], 'k--')\n",
    "plt.xlim([0.0, 1.0])\n",
    "plt.ylim([0.0, 1.05])\n",
    "plt.xlabel('False Positive Rate')\n",
    "plt.ylabel('True Positive Rate')\n",
    "plt.title('Receiver operating characteristic example')\n",
    "plt.legend(loc=\"lower right\")\n",
    "plt.show()"
   ]
  },
  {
   "cell_type": "markdown",
   "metadata": {},
   "source": [
    "## RF 模型"
   ]
  },
  {
   "cell_type": "raw",
   "metadata": {},
   "source": [
    "rf = RandomForestClassifier(\n",
    "    labelCol=LABEL_COL, \n",
    "    featuresCol=\"features\", \n",
    "    numTrees=200, maxBins=200\n",
    ")"
   ]
  }
 ],
 "metadata": {
  "kernelspec": {
   "display_name": "Python 3",
   "language": "python",
   "name": "python3"
  },
  "language_info": {
   "codemirror_mode": {
    "name": "ipython",
    "version": 3
   },
   "file_extension": ".py",
   "mimetype": "text/x-python",
   "name": "python",
   "nbconvert_exporter": "python",
   "pygments_lexer": "ipython3",
   "version": "3.7.6"
  }
 },
 "nbformat": 4,
 "nbformat_minor": 4
}
