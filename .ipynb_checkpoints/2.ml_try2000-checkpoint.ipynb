{
 "cells": [
  {
   "cell_type": "markdown",
   "metadata": {},
   "source": [
    "# 初始spark設定(每台不同)"
   ]
  },
  {
   "cell_type": "code",
   "execution_count": 1,
   "metadata": {},
   "outputs": [],
   "source": [
    "import os\n",
    "import sys\n",
    "os.environ['SPARK_HOME'] = '/opt/cloudera/parcels/CDH/lib/spark/'"
   ]
  },
  {
   "cell_type": "code",
   "execution_count": 2,
   "metadata": {},
   "outputs": [],
   "source": [
    "import findspark\n",
    "findspark.init()"
   ]
  },
  {
   "cell_type": "markdown",
   "metadata": {},
   "source": [
    "# 欄位資訊"
   ]
  },
  {
   "cell_type": "code",
   "execution_count": 3,
   "metadata": {},
   "outputs": [],
   "source": [
    "with open(\"col_info.txt\", \"r\") as f:\n",
    "    head = f.readline()\n",
    "    col_info = [ line.strip().split(\" \") for line in f.read().split(\"\\n\")]"
   ]
  },
  {
   "cell_type": "code",
   "execution_count": 4,
   "metadata": {},
   "outputs": [
    {
     "data": {
      "text/plain": [
       "[['0', 'Year', 'int', '飛行日期_年', 'X'],\n",
       " ['1', 'Month', 'int', '飛行日期_月', 'O', '一月和十二月特別容易取消班機'],\n",
       " ['2', 'DayofMonth', 'int', '飛行日期_日', 'O', '11號和13號', '特別容易取消班機'],\n",
       " ['3', 'DayOfWeek', 'int', '飛行日期_星期', 'O', '星期二特別容易取消班機,星期日最不容易取消班機'],\n",
       " ['4', 'DepTime', 'str', '飛行時間_起飛時間', 'X', \"如果班機取消,這個值必為'NA',不可選\"]]"
      ]
     },
     "execution_count": 4,
     "metadata": {},
     "output_type": "execute_result"
    }
   ],
   "source": [
    "col_info[:5]"
   ]
  },
  {
   "cell_type": "markdown",
   "metadata": {},
   "source": [
    "# 讀取資料"
   ]
  },
  {
   "cell_type": "code",
   "execution_count": 5,
   "metadata": {},
   "outputs": [],
   "source": [
    "from pyspark.context import SparkContext\n",
    "from pyspark.sql.session import SparkSession\n",
    "sc = SparkContext('yarn')\n",
    "spark = SparkSession(sc)"
   ]
  },
  {
   "cell_type": "code",
   "execution_count": 6,
   "metadata": {},
   "outputs": [],
   "source": [
    "from pyspark.sql import SQLContext\n",
    "sqlContext = SQLContext(sc)"
   ]
  },
  {
   "cell_type": "code",
   "execution_count": 7,
   "metadata": {},
   "outputs": [],
   "source": [
    "SELECED_COLS_CATAG = ['UniqueCarrier', 'Origin', 'Dest', 'FlightNum']\n",
    "SELECED_COLS_FLOAT = ['Month', 'DayofMonth', 'DayOfWeek', 'CRSDepTime', 'Distance']\n",
    "LABEL_COL = 'Cancelled'"
   ]
  },
  {
   "cell_type": "code",
   "execution_count": 8,
   "metadata": {},
   "outputs": [],
   "source": [
    "from pyspark.sql.types import *\n",
    "\n",
    "schema = StructType([\n",
    "    StructField(ci[1], IntegerType() if ci[2]=='int' else StringType() , False) for ci in col_info ])\n",
    "\n",
    "df_train = sqlContext.read.format('com.databricks.spark.csv') \\\n",
    "        .options(header='true', inferschema='true') \\\n",
    "        .schema(schema) \\\n",
    "        .load('2000.csv') \\\n",
    "        .select(SELECED_COLS_CATAG+SELECED_COLS_FLOAT+[LABEL_COL]) #截取部分欄位之資料"
   ]
  },
  {
   "cell_type": "code",
   "execution_count": 9,
   "metadata": {},
   "outputs": [
    {
     "name": "stdout",
     "output_type": "stream",
     "text": [
      "5683047\n",
      "5683047\n"
     ]
    }
   ],
   "source": [
    "print(df_train.count())\n",
    "df_train = df_train.na.drop()\n",
    "print(df_train.count())"
   ]
  },
  {
   "cell_type": "code",
   "execution_count": 10,
   "metadata": {},
   "outputs": [],
   "source": [
    "df_train.createOrReplaceTempView(\"df_train\")"
   ]
  },
  {
   "cell_type": "code",
   "execution_count": 11,
   "metadata": {},
   "outputs": [
    {
     "data": {
      "text/plain": [
       "[Row(UniqueCarrier='HP', Origin='ATL', Dest='PHX', FlightNum='154', Month=1, DayofMonth=28, DayOfWeek=5, CRSDepTime=1647, Distance=1587, Cancelled=0)]"
      ]
     },
     "execution_count": 11,
     "metadata": {},
     "output_type": "execute_result"
    }
   ],
   "source": [
    "df_train.take(1)"
   ]
  },
  {
   "cell_type": "markdown",
   "metadata": {},
   "source": [
    "# 資料前處理 新增欄位"
   ]
  },
  {
   "cell_type": "code",
   "execution_count": 12,
   "metadata": {},
   "outputs": [],
   "source": [
    "from pyspark.sql import Column\n",
    "from pyspark.sql.functions import UserDefinedFunction\n",
    "from pyspark.sql.functions import sin, cos\n",
    "from numpy import pi"
   ]
  },
  {
   "cell_type": "code",
   "execution_count": 13,
   "metadata": {},
   "outputs": [],
   "source": [
    "new_COLS_CATAG = [] #init\n",
    "new_COLS_FLOAT = [] #init"
   ]
  },
  {
   "cell_type": "markdown",
   "metadata": {},
   "source": [
    "### Distance"
   ]
  },
  {
   "cell_type": "code",
   "execution_count": 14,
   "metadata": {},
   "outputs": [
    {
     "name": "stdout",
     "output_type": "stream",
     "text": [
      "+-------------+\n",
      "|max(Distance)|\n",
      "+-------------+\n",
      "|         4962|\n",
      "+-------------+\n",
      "\n"
     ]
    }
   ],
   "source": [
    "spark.sql(\"select max(Distance) from df_train\").show()"
   ]
  },
  {
   "cell_type": "code",
   "execution_count": 15,
   "metadata": {},
   "outputs": [],
   "source": [
    "udf_Distance_Norm = UserDefinedFunction(lambda x: x/4962, FloatType())"
   ]
  },
  {
   "cell_type": "code",
   "execution_count": 16,
   "metadata": {},
   "outputs": [
    {
     "data": {
      "text/plain": [
       "[Row(UniqueCarrier='HP', Origin='ATL', Dest='PHX', FlightNum='154', Month=1, DayofMonth=28, DayOfWeek=5, CRSDepTime=1647, Distance=1587, Cancelled=0, Distance_norm=0.3198307156562805)]"
      ]
     },
     "execution_count": 16,
     "metadata": {},
     "output_type": "execute_result"
    }
   ],
   "source": [
    "df_train = df_train.withColumn(\"Distance_norm\", udf_Distance_Norm(\"Distance\"))\n",
    "df_train.take(1)"
   ]
  },
  {
   "cell_type": "code",
   "execution_count": 17,
   "metadata": {},
   "outputs": [],
   "source": [
    "new_COLS_FLOAT.append(\"Distance_norm\")"
   ]
  },
  {
   "cell_type": "markdown",
   "metadata": {},
   "source": [
    "### Month, DayofMonth, DayOfWeek, CRSDepTime"
   ]
  },
  {
   "cell_type": "code",
   "execution_count": 18,
   "metadata": {},
   "outputs": [],
   "source": [
    "udf_Time_ToFloat = UserDefinedFunction(lambda x: ((x//100)/24+(1/24)*(x%100)/60)*2*pi, FloatType())\n",
    "udf_Month_ToFloat = UserDefinedFunction(lambda x: x/12*2*pi, FloatType())\n",
    "udf_DayofMonth_ToFloat = UserDefinedFunction(lambda x: x/31*2*pi, FloatType())\n",
    "udf_DayOfWeek_ToFloat = UserDefinedFunction(lambda x: x/7*2*pi, FloatType())"
   ]
  },
  {
   "cell_type": "code",
   "execution_count": 19,
   "metadata": {},
   "outputs": [
    {
     "data": {
      "text/plain": [
       "[Row(UniqueCarrier='HP', Origin='ATL', Dest='PHX', FlightNum='154', Month=1, DayofMonth=28, DayOfWeek=5, CRSDepTime=1647, Distance=1587, Cancelled=0, Distance_norm=0.3198307156562805, CRSDepTime_f=4.393866539001465, Month_f=0.5235987901687622, DayofMonth_f=5.675135135650635, DayOfWeek_f=4.48798942565918, Month_sin=0.5000000126183913, DayofMonth_sin=-0.5712681990994033, DayOfWeek_sin=-0.974927894498283, CRSDepTime_sin=-0.9496991722700603)]"
      ]
     },
     "execution_count": 19,
     "metadata": {},
     "output_type": "execute_result"
    }
   ],
   "source": [
    "df_train = df_train.withColumn(\"CRSDepTime_f\", udf_Time_ToFloat(\"CRSDepTime\"))\n",
    "df_train = df_train.withColumn(\"Month_f\", udf_Month_ToFloat(\"Month\"))\n",
    "df_train = df_train.withColumn(\"DayofMonth_f\", udf_DayofMonth_ToFloat(\"DayofMonth\"))\n",
    "df_train = df_train.withColumn(\"DayOfWeek_f\", udf_DayOfWeek_ToFloat(\"DayOfWeek\"))\n",
    "for col_name in ['Month', 'DayofMonth', 'DayOfWeek', 'CRSDepTime']:\n",
    "    df_train = df_train.withColumn(col_name+\"_sin\", sin(col_name+\"_f\")) \n",
    "    new_COLS_FLOAT.append(col_name+\"_f\")\n",
    "    new_COLS_FLOAT.append(col_name+\"_sin\")\n",
    "df_train.take(1)"
   ]
  },
  {
   "cell_type": "markdown",
   "metadata": {},
   "source": [
    "### FlightNum"
   ]
  },
  {
   "cell_type": "code",
   "execution_count": 20,
   "metadata": {},
   "outputs": [],
   "source": [
    "sql_text = \"\"\"select X.{colname} , X.C as Qty, round(X.C/Y.C*100,2) as Ratio\n",
    "              from (select {colname}, count({colname}) as C from df_train where Cancelled=1 group by {colname}) X \n",
    "              join (select {colname}, count({colname}) as C from df_train group by {colname}) Y on X.{colname}=Y.{colname}\n",
    "            order by Ratio DESC\"\"\""
   ]
  },
  {
   "cell_type": "code",
   "execution_count": 21,
   "metadata": {},
   "outputs": [],
   "source": [
    "df_pd_FlightNum = spark.sql(sql_text.format(colname=\"FlightNum\")).toPandas()"
   ]
  },
  {
   "cell_type": "code",
   "execution_count": 22,
   "metadata": {},
   "outputs": [
    {
     "data": {
      "text/html": [
       "<div>\n",
       "<style scoped>\n",
       "    .dataframe tbody tr th:only-of-type {\n",
       "        vertical-align: middle;\n",
       "    }\n",
       "\n",
       "    .dataframe tbody tr th {\n",
       "        vertical-align: top;\n",
       "    }\n",
       "\n",
       "    .dataframe thead th {\n",
       "        text-align: right;\n",
       "    }\n",
       "</style>\n",
       "<table border=\"1\" class=\"dataframe\">\n",
       "  <thead>\n",
       "    <tr style=\"text-align: right;\">\n",
       "      <th></th>\n",
       "      <th>FlightNum</th>\n",
       "      <th>Qty</th>\n",
       "      <th>Ratio</th>\n",
       "    </tr>\n",
       "  </thead>\n",
       "  <tbody>\n",
       "    <tr>\n",
       "      <th>0</th>\n",
       "      <td>2343</td>\n",
       "      <td>21</td>\n",
       "      <td>30.00</td>\n",
       "    </tr>\n",
       "    <tr>\n",
       "      <th>1</th>\n",
       "      <td>2961</td>\n",
       "      <td>14</td>\n",
       "      <td>21.88</td>\n",
       "    </tr>\n",
       "    <tr>\n",
       "      <th>2</th>\n",
       "      <td>1365</td>\n",
       "      <td>71</td>\n",
       "      <td>19.51</td>\n",
       "    </tr>\n",
       "    <tr>\n",
       "      <th>3</th>\n",
       "      <td>2883</td>\n",
       "      <td>45</td>\n",
       "      <td>17.37</td>\n",
       "    </tr>\n",
       "    <tr>\n",
       "      <th>4</th>\n",
       "      <td>6493</td>\n",
       "      <td>6</td>\n",
       "      <td>16.67</td>\n",
       "    </tr>\n",
       "  </tbody>\n",
       "</table>\n",
       "</div>"
      ],
      "text/plain": [
       "  FlightNum  Qty  Ratio\n",
       "0      2343   21  30.00\n",
       "1      2961   14  21.88\n",
       "2      1365   71  19.51\n",
       "3      2883   45  17.37\n",
       "4      6493    6  16.67"
      ]
     },
     "execution_count": 22,
     "metadata": {},
     "output_type": "execute_result"
    }
   ],
   "source": [
    "df_pd_FlightNum.head()"
   ]
  },
  {
   "cell_type": "code",
   "execution_count": 23,
   "metadata": {},
   "outputs": [
    {
     "data": {
      "text/plain": [
       "<matplotlib.axes._subplots.AxesSubplot at 0x7ff428dff290>"
      ]
     },
     "execution_count": 23,
     "metadata": {},
     "output_type": "execute_result"
    },
    {
     "data": {
      "image/png": "[encoded data removed]",
      "text/plain": [
       "<Figure size 432x288 with 1 Axes>"
      ]
     },
     "metadata": {
      "needs_background": "light"
     },
     "output_type": "display_data"
    }
   ],
   "source": [
    "df_pd_FlightNum.plot('FlightNum','Ratio')"
   ]
  },
  {
   "cell_type": "code",
   "execution_count": 24,
   "metadata": {},
   "outputs": [
    {
     "name": "stdout",
     "output_type": "stream",
     "text": [
      "153\n"
     ]
    }
   ],
   "source": [
    "catg_selected_FlightNums = list(df_pd_FlightNum[df_pd_FlightNum.Ratio>7.0].FlightNum)\n",
    "print(len(catg_selected_FlightNums))"
   ]
  },
  {
   "cell_type": "code",
   "execution_count": 25,
   "metadata": {},
   "outputs": [],
   "source": [
    "def MarkElse(col_name, catg_selected):\n",
    "    global df_train, new_COLS_CATAG\n",
    "    # 把影響比較不顯著的值改成 'ELSE'\n",
    "    print(f\"修改前 [{col_name}] 種類數量:\", df_train.select(col_name).distinct().count())\n",
    "    udf_MarkElse = UserDefinedFunction(lambda x: x if x in catg_selected else \"ELSE\", StringType())\n",
    "    df_train = df_train.withColumn(col_name+\"_m\", udf_MarkElse(col_name))\n",
    "    new_COLS_CATAG.append(col_name+\"_m\")\n",
    "    print(f\"修改後 [{col_name+'_m'}] 種類數量:\", df_train.select(col_name+\"_m\").distinct().count())"
   ]
  },
  {
   "cell_type": "code",
   "execution_count": 26,
   "metadata": {},
   "outputs": [
    {
     "name": "stdout",
     "output_type": "stream",
     "text": [
      "修改前 [FlightNum] 種類數量: 3131\n",
      "修改後 [FlightNum_m] 種類數量: 154\n"
     ]
    }
   ],
   "source": [
    "MarkElse(\"FlightNum\", catg_selected_FlightNums)"
   ]
  },
  {
   "cell_type": "markdown",
   "metadata": {},
   "source": [
    "### Origin"
   ]
  },
  {
   "cell_type": "code",
   "execution_count": 27,
   "metadata": {},
   "outputs": [],
   "source": [
    "df_pd_Origin = spark.sql(sql_text.format(colname=\"Origin\")).toPandas()"
   ]
  },
  {
   "cell_type": "code",
   "execution_count": 28,
   "metadata": {},
   "outputs": [
    {
     "data": {
      "text/plain": [
       "<matplotlib.axes._subplots.AxesSubplot at 0x7ff42ba81c10>"
      ]
     },
     "execution_count": 28,
     "metadata": {},
     "output_type": "execute_result"
    },
    {
     "data": {
      "image/png": "[encoded data removed]",
      "text/plain": [
       "<Figure size 432x288 with 1 Axes>"
      ]
     },
     "metadata": {
      "needs_background": "light"
     },
     "output_type": "display_data"
    }
   ],
   "source": [
    "df_pd_Origin.plot('Origin','Ratio')"
   ]
  },
  {
   "cell_type": "code",
   "execution_count": 29,
   "metadata": {},
   "outputs": [
    {
     "name": "stdout",
     "output_type": "stream",
     "text": [
      "35\n"
     ]
    }
   ],
   "source": [
    "catg_selected_Origins =  list(df_pd_Origin[df_pd_Origin.Ratio>5.0].Origin)\n",
    "print(len(catg_selected_Origins))"
   ]
  },
  {
   "cell_type": "code",
   "execution_count": 30,
   "metadata": {},
   "outputs": [
    {
     "name": "stdout",
     "output_type": "stream",
     "text": [
      "修改前 [Origin] 種類數量: 206\n",
      "修改後 [Origin_m] 種類數量: 36\n"
     ]
    }
   ],
   "source": [
    "MarkElse(\"Origin\", catg_selected_Origins)"
   ]
  },
  {
   "cell_type": "markdown",
   "metadata": {},
   "source": [
    "### Dest"
   ]
  },
  {
   "cell_type": "code",
   "execution_count": 31,
   "metadata": {},
   "outputs": [],
   "source": [
    "df_pd_Dest = spark.sql(sql_text.format(colname=\"Dest\")).toPandas()"
   ]
  },
  {
   "cell_type": "code",
   "execution_count": 32,
   "metadata": {},
   "outputs": [
    {
     "data": {
      "text/plain": [
       "<matplotlib.axes._subplots.AxesSubplot at 0x7ff42ba81c50>"
      ]
     },
     "execution_count": 32,
     "metadata": {},
     "output_type": "execute_result"
    },
    {
     "data": {
      "image/png": "[encoded data removed]",
      "text/plain": [
       "<Figure size 432x288 with 1 Axes>"
      ]
     },
     "metadata": {
      "needs_background": "light"
     },
     "output_type": "display_data"
    }
   ],
   "source": [
    "df_pd_Dest.plot('Dest','Ratio')"
   ]
  },
  {
   "cell_type": "code",
   "execution_count": 33,
   "metadata": {},
   "outputs": [
    {
     "name": "stdout",
     "output_type": "stream",
     "text": [
      "28\n"
     ]
    }
   ],
   "source": [
    "catg_selected_Dests =  list(df_pd_Dest[df_pd_Dest.Ratio>5.0].Dest)\n",
    "print(len(catg_selected_Dests))"
   ]
  },
  {
   "cell_type": "code",
   "execution_count": 34,
   "metadata": {},
   "outputs": [
    {
     "name": "stdout",
     "output_type": "stream",
     "text": [
      "修改前 [Dest] 種類數量: 206\n",
      "修改後 [Dest_m] 種類數量: 29\n"
     ]
    }
   ],
   "source": [
    "MarkElse(\"Dest\", catg_selected_Dests)"
   ]
  },
  {
   "cell_type": "markdown",
   "metadata": {},
   "source": [
    "### UniqueCarrier"
   ]
  },
  {
   "cell_type": "code",
   "execution_count": 35,
   "metadata": {},
   "outputs": [],
   "source": [
    "df_pd_UniqueCarrier = spark.sql(sql_text.format(colname=\"UniqueCarrier\")).toPandas()"
   ]
  },
  {
   "cell_type": "code",
   "execution_count": 36,
   "metadata": {},
   "outputs": [
    {
     "data": {
      "text/plain": [
       "(11, 3)"
      ]
     },
     "execution_count": 36,
     "metadata": {},
     "output_type": "execute_result"
    }
   ],
   "source": [
    "df_pd_UniqueCarrier.shape"
   ]
  },
  {
   "cell_type": "code",
   "execution_count": 37,
   "metadata": {},
   "outputs": [
    {
     "data": {
      "text/plain": [
       "<matplotlib.axes._subplots.AxesSubplot at 0x7ff428475f50>"
      ]
     },
     "execution_count": 37,
     "metadata": {},
     "output_type": "execute_result"
    },
    {
     "data": {
      "image/png": "[encoded data removed]",
      "text/plain": [
       "<Figure size 432x288 with 1 Axes>"
      ]
     },
     "metadata": {
      "needs_background": "light"
     },
     "output_type": "display_data"
    }
   ],
   "source": [
    "df_pd_UniqueCarrier.plot('UniqueCarrier','Ratio')"
   ]
  },
  {
   "cell_type": "code",
   "execution_count": 38,
   "metadata": {},
   "outputs": [
    {
     "name": "stdout",
     "output_type": "stream",
     "text": [
      "此欄位不修改\n"
     ]
    }
   ],
   "source": [
    "print(\"此欄位不修改\")\n",
    "new_COLS_CATAG.append('UniqueCarrier')"
   ]
  },
  {
   "cell_type": "code",
   "execution_count": 39,
   "metadata": {},
   "outputs": [
    {
     "data": {
      "text/plain": [
       "[Row(UniqueCarrier='HP', Origin='ATL', Dest='PHX', FlightNum='154', Month=1, DayofMonth=28, DayOfWeek=5, CRSDepTime=1647, Distance=1587, Cancelled=0, Distance_norm=0.3198307156562805, CRSDepTime_f=4.393866539001465, Month_f=0.5235987901687622, DayofMonth_f=5.675135135650635, DayOfWeek_f=4.48798942565918, Month_sin=0.5000000126183913, DayofMonth_sin=-0.5712681990994033, DayOfWeek_sin=-0.974927894498283, CRSDepTime_sin=-0.9496991722700603, FlightNum_m='ELSE', Origin_m='ELSE', Dest_m='ELSE')]"
      ]
     },
     "execution_count": 39,
     "metadata": {},
     "output_type": "execute_result"
    }
   ],
   "source": [
    "df_train.createOrReplaceTempView(\"df_train\")\n",
    "df_train.take(1)"
   ]
  },
  {
   "cell_type": "markdown",
   "metadata": {},
   "source": [
    "### class_weight"
   ]
  },
  {
   "cell_type": "code",
   "execution_count": 90,
   "metadata": {},
   "outputs": [
    {
     "name": "stdout",
     "output_type": "stream",
     "text": [
      "班機取消的比例:  0.03299110494775074\n"
     ]
    }
   ],
   "source": [
    "weightNonCanceled = df_train.where(\"Cancelled=1\").count()/df_train.count()\n",
    "print(\"班機取消的比例: \", weightNonCanceled )"
   ]
  },
  {
   "cell_type": "code",
   "execution_count": 91,
   "metadata": {},
   "outputs": [],
   "source": [
    "udf_weight_class = UserDefinedFunction(lambda x: 1-weightNonCanceled if x==1 else weightNonCanceled , FloatType())"
   ]
  },
  {
   "cell_type": "code",
   "execution_count": 92,
   "metadata": {},
   "outputs": [],
   "source": [
    "df_train = df_train.withColumn(\"class_weight\", udf_weight_class(\"Cancelled\"))"
   ]
  },
  {
   "cell_type": "code",
   "execution_count": 93,
   "metadata": {},
   "outputs": [
    {
     "data": {
      "text/plain": [
       "[Row(UniqueCarrier='HP', Origin='ATL', Dest='PHX', FlightNum='154', Month=1, DayofMonth=30, DayOfWeek=7, CRSDepTime=1647, Distance=1587, Cancelled=1, Distance_norm=0.3198307156562805, CRSDepTime_f=4.393866539001465, Month_f=0.5235987901687622, DayofMonth_f=6.080502033233643, DayOfWeek_f=6.2831854820251465, Month_sin=0.5000000126183913, DayofMonth_sin=-0.2012983995478517, DayOfWeek_sin=1.7484556000744883e-07, CRSDepTime_sin=-0.9496991722700603, FlightNum_m='ELSE', Origin_m='ELSE', Dest_m='ELSE', class_weight=0.9670088887214661)]"
      ]
     },
     "execution_count": 93,
     "metadata": {},
     "output_type": "execute_result"
    }
   ],
   "source": [
    "df_train.where(\"Cancelled=1\").take(1)"
   ]
  },
  {
   "cell_type": "code",
   "execution_count": 94,
   "metadata": {},
   "outputs": [
    {
     "data": {
      "text/plain": [
       "5683047"
      ]
     },
     "execution_count": 94,
     "metadata": {},
     "output_type": "execute_result"
    }
   ],
   "source": [
    "df_train.count()"
   ]
  },
  {
   "cell_type": "markdown",
   "metadata": {},
   "source": [
    "# 補值確認"
   ]
  },
  {
   "cell_type": "raw",
   "metadata": {},
   "source": [
    "new_COLS_CATAG, new_COLS_FLOAT"
   ]
  },
  {
   "cell_type": "raw",
   "metadata": {},
   "source": [
    "for col_name in new_COLS_FLOAT:\n",
    "    print( f\"[{col_name}]缺失值數量:\", df_train.filter(f\"{col_name} is null\").count() )\n",
    "    "
   ]
  },
  {
   "cell_type": "raw",
   "metadata": {},
   "source": [
    "for col_name in new_COLS_CATAG:\n",
    "    print( f\"[{col_name}]缺失值數量:\", df_train.filter(f\"{col_name} is null\").count() )"
   ]
  },
  {
   "cell_type": "markdown",
   "metadata": {},
   "source": [
    "# 建立模型"
   ]
  },
  {
   "cell_type": "markdown",
   "metadata": {},
   "source": [
    "ref: https://weiminwang.blog/2016/06/09/pyspark-tutorial-building-a-random-forest-binary-classifier-on-unbalanced-dataset/"
   ]
  },
  {
   "cell_type": "markdown",
   "metadata": {},
   "source": [
    "ref: https://spark.apache.org/docs/latest/ml-tuning.html"
   ]
  },
  {
   "cell_type": "code",
   "execution_count": 107,
   "metadata": {},
   "outputs": [],
   "source": [
    "from pyspark.ml import Pipeline\n",
    "from pyspark.ml.feature import StringIndexer, OneHotEncoder, OneHotEncoderEstimator, VectorAssembler\n",
    "from pyspark.ml.classification import LogisticRegression, RandomForestClassifier\n",
    "from pyspark.ml.feature import IndexToString, StringIndexer, VectorIndexer\n",
    "from pyspark.ml.tuning import CrossValidator, TrainValidationSplit, ParamGridBuilder\n",
    "from pyspark.ml.evaluation import BinaryClassificationEvaluator"
   ]
  },
  {
   "cell_type": "code",
   "execution_count": 96,
   "metadata": {},
   "outputs": [],
   "source": [
    "indexers = [\n",
    "    StringIndexer(inputCol=c, outputCol=\"{0}_indexed\".format(c)).setHandleInvalid(\"error\")\n",
    "    for c in new_COLS_CATAG\n",
    "]\n",
    "encoder = OneHotEncoderEstimator(\n",
    "        inputCols=[indexer.getOutputCol() for indexer in indexers],\n",
    "        outputCols=[\"{0}_encoded\".format(indexer.getOutputCol()) for indexer in indexers]\n",
    ")\n",
    "vectorAssembler = VectorAssembler(\n",
    "    inputCols=encoder.getOutputCols()+new_COLS_FLOAT, \n",
    "    outputCol=\"features\"\n",
    ")"
   ]
  },
  {
   "cell_type": "code",
   "execution_count": 97,
   "metadata": {},
   "outputs": [],
   "source": [
    "pipeline = Pipeline(stages=indexers+[encoder, vectorAssembler]).fit(df_train)\n",
    "allData = pipeline.transform(df_train)"
   ]
  },
  {
   "cell_type": "code",
   "execution_count": 214,
   "metadata": {},
   "outputs": [
    {
     "name": "stdout",
     "output_type": "stream",
     "text": [
      "Distribution of Pos and Neg in trainingData is:  [Row(Cancelled=1, count=150175), Row(Cancelled=0, count=4395222)]\n"
     ]
    }
   ],
   "source": [
    "allData.cache()\n",
    "trainingData, valData = allData.randomSplit([0.8,0.2], seed=1234) # need to ensure same split for each time\n",
    "print(\"Distribution of Pos and Neg in trainingData is: \", trainingData.groupBy(LABEL_COL).count().take(3))"
   ]
  },
  {
   "cell_type": "code",
   "execution_count": 99,
   "metadata": {},
   "outputs": [],
   "source": [
    "lr = LogisticRegression(maxIter=10).setWeightCol(\"class_weight\").setLabelCol(LABEL_COL).setFeaturesCol(\"features\")"
   ]
  },
  {
   "cell_type": "raw",
   "metadata": {},
   "source": [
    "rf = RandomForestClassifier(\n",
    "    labelCol=LABEL_COL, \n",
    "    featuresCol=\"features\", \n",
    "    numTrees=200, maxBins=200\n",
    ")"
   ]
  },
  {
   "cell_type": "code",
   "execution_count": 108,
   "metadata": {},
   "outputs": [],
   "source": [
    "paramGrid = ParamGridBuilder()\\\n",
    "    .addGrid(lr.regParam, [1.0, 0.1, 0.01]) \\\n",
    "    .addGrid(lr.fitIntercept, [False, True])\\\n",
    "    .addGrid(lr.elasticNetParam, [0.0, 0.5, 1.0])\\\n",
    "    .build()\n",
    "\n",
    "evaluator = BinaryClassificationEvaluator(\n",
    "    labelCol=LABEL_COL, \n",
    "    rawPredictionCol=\"prediction\", \n",
    "    metricName=\"areaUnderROC\")\n",
    "\n",
    "cv = CrossValidator(estimator=lr,\n",
    "                    estimatorParamMaps=paramGrid,\n",
    "                    evaluator=evaluator,\n",
    "                    numFolds=5)  # use 3+ folds in practice\n",
    "\n",
    "tvs = TrainValidationSplit(estimator=lr,\n",
    "                           estimatorParamMaps=paramGrid,\n",
    "                           evaluator=evaluator,\n",
    "                           # 80% of the data will be used for training, 20% for validation.\n",
    "                           trainRatio=0.8)"
   ]
  },
  {
   "cell_type": "code",
   "execution_count": 110,
   "metadata": {},
   "outputs": [],
   "source": [
    "model = cv.fit(trainingData)"
   ]
  },
  {
   "cell_type": "code",
   "execution_count": 211,
   "metadata": {},
   "outputs": [],
   "source": [
    "bestModel = model.bestModel #取得最佳模型"
   ]
  },
  {
   "cell_type": "code",
   "execution_count": 212,
   "metadata": {},
   "outputs": [
    {
     "data": {
      "text/plain": [
       "{'regParam': 0.01, 'fitIntercept': True, 'elasticNetParam': 0.0}"
      ]
     },
     "execution_count": 212,
     "metadata": {},
     "output_type": "execute_result"
    }
   ],
   "source": [
    "java_model =bestModel._java_obj #印出最佳參數\n",
    "{param.name: java_model.getOrDefault(java_model.getParam(param.name)) \n",
    "    for param in paramGrid[0]}"
   ]
  },
  {
   "cell_type": "code",
   "execution_count": 153,
   "metadata": {},
   "outputs": [],
   "source": [
    "cv.save(\"cv_lr_2000\")"
   ]
  },
  {
   "cell_type": "markdown",
   "metadata": {},
   "source": [
    "# 驗證模型"
   ]
  },
  {
   "cell_type": "code",
   "execution_count": 215,
   "metadata": {},
   "outputs": [],
   "source": [
    "predicted_train = model.transform(valData).select('probability', LABEL_COL, \"prediction\")"
   ]
  },
  {
   "cell_type": "code",
   "execution_count": 216,
   "metadata": {},
   "outputs": [
    {
     "name": "stdout",
     "output_type": "stream",
     "text": [
      "+---------+-------------------+\n",
      "|   metric|              value|\n",
      "+---------+-------------------+\n",
      "|       TP|            23273.0|\n",
      "|       FP|           388199.0|\n",
      "|       TN|           712136.0|\n",
      "|       FN|            14042.0|\n",
      "|Precision|0.05656034918536377|\n",
      "|   Recall| 0.6236902050113895|\n",
      "| F1-Score| 0.6236902050113895|\n",
      "+---------+-------------------+\n",
      "\n"
     ]
    }
   ],
   "source": [
    "tp = float(predicted_train.filter(f\"prediction == 1.0 AND {LABEL_COL} == 1\").count())\n",
    "fp = float(predicted_train.filter(f\"prediction == 1.0 AND {LABEL_COL} == 0\").count())\n",
    "tn = float(predicted_train.filter(f\"prediction == 0.0 AND {LABEL_COL} == 0\").count())\n",
    "fn = float(predicted_train.filter(f\"prediction == 0.0 AND {LABEL_COL} == 1\").count())\n",
    "r = tp / (tp + fn)\n",
    "p =  tp / (tp + fp)\n",
    "f1 = 2/(1/r+1/p)\n",
    "metrics = spark.createDataFrame([\n",
    " (\"TP\", tp),\n",
    " (\"FP\", fp),\n",
    " (\"TN\", tn),\n",
    " (\"FN\", fn),\n",
    " (\"Precision\", p ),\n",
    " (\"Recall\", r),\n",
    " (\"F1-Score\", r)], [\"metric\", \"value\"])\n",
    "metrics.show()"
   ]
  },
  {
   "cell_type": "raw",
   "metadata": {},
   "source": [
    "evaluator.evaluate(predicted_train) #AUC"
   ]
  },
  {
   "cell_type": "code",
   "execution_count": 240,
   "metadata": {},
   "outputs": [],
   "source": [
    "result = predicted_train.select('probability', LABEL_COL).collect()"
   ]
  },
  {
   "cell_type": "code",
   "execution_count": 241,
   "metadata": {},
   "outputs": [],
   "source": [
    "results_list = [(float(i[0][0]), 1.0-float(i[1])) for i in result]"
   ]
  },
  {
   "cell_type": "code",
   "execution_count": 242,
   "metadata": {},
   "outputs": [
    {
     "data": {
      "image/png": "[encoded data removed]",
      "text/plain": [
       "<Figure size 432x288 with 1 Axes>"
      ]
     },
     "metadata": {
      "needs_background": "light"
     },
     "output_type": "display_data"
    }
   ],
   "source": [
    "from sklearn.metrics import roc_curve, auc\n",
    "from matplotlib import pyplot as plt\n",
    "%matplotlib inline\n",
    " \n",
    "fpr = dict()\n",
    "tpr = dict()\n",
    "roc_auc = dict()\n",
    " \n",
    "y_test = [i[1] for i in results_list]\n",
    "y_score = [i[0] for i in results_list]\n",
    " \n",
    "fpr, tpr, _ = roc_curve(y_test, y_score)\n",
    "roc_auc = auc(fpr, tpr)\n",
    " \n",
    "%matplotlib inline\n",
    "plt.figure()\n",
    "plt.plot(fpr, tpr, label='ROC curve (area = %0.2f)' % roc_auc)\n",
    "plt.plot([0, 1], [0, 1], 'k--')\n",
    "plt.xlim([0.0, 1.0])\n",
    "plt.ylim([0.0, 1.05])\n",
    "plt.xlabel('False Positive Rate')\n",
    "plt.ylabel('True Positive Rate')\n",
    "plt.title('Receiver operating characteristic example')\n",
    "plt.legend(loc=\"lower right\")\n",
    "plt.show()"
   ]
  },
  {
   "cell_type": "code",
   "execution_count": null,
   "metadata": {},
   "outputs": [],
   "source": []
  }
 ],
 "metadata": {
  "kernelspec": {
   "display_name": "Python 3",
   "language": "python",
   "name": "python3"
  },
  "language_info": {
   "codemirror_mode": {
    "name": "ipython",
    "version": 3
   },
   "file_extension": ".py",
   "mimetype": "text/x-python",
   "name": "python",
   "nbconvert_exporter": "python",
   "pygments_lexer": "ipython3",
   "version": "3.7.6"
  }
 },
 "nbformat": 4,
 "nbformat_minor": 4
}
